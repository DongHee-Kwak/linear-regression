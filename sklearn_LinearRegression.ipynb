{
  "nbformat": 4,
  "nbformat_minor": 0,
  "metadata": {
    "colab": {
      "name": "sklearn LinearRegression.ipynb",
      "private_outputs": true,
      "provenance": [],
      "collapsed_sections": [],
      "authorship_tag": "ABX9TyO7hNvCN4C2xYYy16NDu5Q3",
      "include_colab_link": true
    },
    "kernelspec": {
      "name": "python3",
      "display_name": "Python 3"
    },
    "language_info": {
      "name": "python"
    }
  },
  "cells": [
    {
      "cell_type": "markdown",
      "metadata": {
        "id": "view-in-github",
        "colab_type": "text"
      },
      "source": [
        "<a href=\"https://colab.research.google.com/github/DongHee-Kwak/linear-regression/blob/main/sklearn_LinearRegression.ipynb\" target=\"_parent\"><img src=\"https://colab.research.google.com/assets/colab-badge.svg\" alt=\"Open In Colab\"/></a>"
      ]
    },
    {
      "cell_type": "code",
      "metadata": {
        "id": "t51k4x-_eL8z"
      },
      "source": [
        "from sklearn.linear_model import LinearRegression\n",
        "import pandas as pd\n",
        "import numpy as np\n",
        "import matplotlib.pyplot as plt\n",
        "import matplotlib\n",
        "\n",
        "matplotlib.rcParams['axes.unicode_minus'] = False ## 마이너스 '-' 표시 제대로 출력\n",
        " \n",
        "from statsmodels.formula.api import ols\n",
        "from sklearn.linear_model import LinearRegression\n",
        " "
      ],
      "execution_count": null,
      "outputs": []
    },
    {
      "cell_type": "code",
      "metadata": {
        "id": "isb75UJTeSyZ"
      },
      "source": [
        "from google.colab import drive\n",
        "drive.mount('/content/drive')\n",
        "df = pd.read_csv('/content/drive/MyDrive/csvfile/test.csv')\n",
        "dataset = df.values.astype(\"float32\")\n",
        "df.head()\n",
        "print(dataset)"
      ],
      "execution_count": null,
      "outputs": []
    },
    {
      "cell_type": "code",
      "metadata": {
        "id": "-h7yYOlAeSuv"
      },
      "source": [
        "x_data = dataset[:, 0]\n",
        "y_data = dataset[:,-1]\n",
        "plt.plot(x_data, y_data, 'o')\n",
        "plt.show()"
      ],
      "execution_count": null,
      "outputs": []
    },
    {
      "cell_type": "code",
      "metadata": {
        "id": "FZPZxrTSfAsU"
      },
      "source": [
        "fig = plt.figure(figsize=(8,8))\n",
        "fig.set_facecolor('white')\n",
        " \n",
        "font_size = 10\n",
        "plt.scatter(df['X_data'],df['Y_data']) ## 원 데이터 산포도\n",
        " \n",
        "plt.xlabel('X_data', fontsize=font_size)\n",
        "plt.ylabel('Y_data',fontsize=font_size)\n",
        "plt.show()"
      ],
      "execution_count": null,
      "outputs": []
    },
    {
      "cell_type": "code",
      "metadata": {
        "id": "w2C4jeXvfGAF"
      },
      "source": [
        "## states model 사용\n",
        "fit = ols('Y_data ~ X_data -1',data=df).fit() ## 단순선형회귀모형 적합\n"
      ],
      "execution_count": null,
      "outputs": []
    },
    {
      "cell_type": "code",
      "metadata": {
        "id": "9xBLLpWtkHeG"
      },
      "source": [
        "# 회귀 계수\n",
        "#print(fit.params.Intercept) ## 절편\n",
        "print(fit.params.X_data) ## 기울기"
      ],
      "execution_count": null,
      "outputs": []
    },
    {
      "cell_type": "code",
      "metadata": {
        "id": "YErPoDuIkNJD"
      },
      "source": [
        "## 추정값\n",
        "fit.fittedvalues"
      ],
      "execution_count": null,
      "outputs": []
    },
    {
      "cell_type": "code",
      "metadata": {
        "id": "X2jGqAhXkxOH"
      },
      "source": [
        "# 잔차\n",
        "fit.resid"
      ],
      "execution_count": null,
      "outputs": []
    },
    {
      "cell_type": "code",
      "metadata": {
        "id": "Z8os2WwNlDmQ"
      },
      "source": [
        "# 예측값\n",
        "fit.predict(exog=dict(X_data=[10]))"
      ],
      "execution_count": null,
      "outputs": []
    },
    {
      "cell_type": "code",
      "metadata": {
        "id": "GkZ14QFelIaw"
      },
      "source": [
        "## 시각화\n",
        "fig = plt.figure(figsize=(8,8))\n",
        "fig.set_facecolor('white')\n",
        " \n",
        "font_size = 15\n",
        "plt.scatter(df['X_data'],df['Y_data']) ## 원 데이터 산포도\n",
        "plt.plot(df['X_data'],fit.fittedvalues,color='red') ## 회귀직선 추가\n",
        " \n",
        "plt.xlabel('X_data', fontsize=font_size)\n",
        "plt.ylabel('Y_data',fontsize=font_size)\n",
        "plt.show()"
      ],
      "execution_count": null,
      "outputs": []
    },
    {
      "cell_type": "code",
      "metadata": {
        "id": "B6t1mBFQl3Jo"
      },
      "source": [
        "## 잔차도 Residual Plot\n",
        "fig = plt.figure(figsize=(8,8))\n",
        "fig.set_facecolor('white')\n",
        " \n",
        "font_size = 15\n",
        " \n",
        "plt.scatter(df['X_data'],fit.resid) ## 잔차도 출력\n",
        " \n",
        "plt.xlabel('X_data', fontsize=font_size)\n",
        "plt.ylabel('Y_data', fontsize=font_size)\n",
        "plt.show()"
      ],
      "execution_count": null,
      "outputs": []
    },
    {
      "cell_type": "code",
      "metadata": {
        "id": "6ywjAIF4l9cI"
      },
      "source": [
        "## sklearn linear regression 사용\n",
        "x = df['X_data'].values.reshape(-1,1) ## 차원 증가 시켜준다.\n",
        "y = df['Y_data']\n",
        " \n",
        "fit = LinearRegression().fit(x,y) ## 단순선형회귀모형 적합"
      ],
      "execution_count": null,
      "outputs": []
    },
    {
      "cell_type": "code",
      "metadata": {
        "id": "eiUAbUrSmNbA"
      },
      "source": [
        "## 회귀 계수\n",
        "#print(fit.intercept_) ## 절편\n",
        "print(fit.coef_) ## 기울기"
      ],
      "execution_count": null,
      "outputs": []
    },
    {
      "cell_type": "code",
      "metadata": {
        "id": "5PJPGa2amPv_"
      },
      "source": [
        "## 추정값\n",
        "fit.predict(x)"
      ],
      "execution_count": null,
      "outputs": []
    },
    {
      "cell_type": "code",
      "metadata": {
        "id": "u_ST8P3rmWIv"
      },
      "source": [
        "## 잔차\n",
        "residual = y - fit.predict(x)\n",
        "print(residual)"
      ],
      "execution_count": null,
      "outputs": []
    },
    {
      "cell_type": "code",
      "metadata": {
        "id": "vRmu5iutmX2P"
      },
      "source": [
        "## 예측값\n",
        "fit.predict([[7.2],[9],[23.5],[3.3]])"
      ],
      "execution_count": null,
      "outputs": []
    },
    {
      "cell_type": "code",
      "metadata": {
        "id": "3ZufhLZ3mdcI"
      },
      "source": [
        "#https://zephyrus1111.tistory.com/52"
      ],
      "execution_count": null,
      "outputs": []
    }
  ]
}