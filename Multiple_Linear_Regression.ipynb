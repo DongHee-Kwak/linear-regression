{
  "nbformat": 4,
  "nbformat_minor": 0,
  "metadata": {
    "colab": {
      "name": "Multiple Linear Regression.ipynb",
      "private_outputs": true,
      "provenance": [],
      "authorship_tag": "ABX9TyPl8fdD9NIa1Poi5CIKQ6hm",
      "include_colab_link": true
    },
    "kernelspec": {
      "name": "python3",
      "display_name": "Python 3"
    },
    "language_info": {
      "name": "python"
    }
  },
  "cells": [
    {
      "cell_type": "markdown",
      "metadata": {
        "id": "view-in-github",
        "colab_type": "text"
      },
      "source": [
        "<a href=\"https://colab.research.google.com/github/DongHee-Kwak/linear-regression/blob/main/Multiple_Linear_Regression.ipynb\" target=\"_parent\"><img src=\"https://colab.research.google.com/assets/colab-badge.svg\" alt=\"Open In Colab\"/></a>"
      ]
    },
    {
      "cell_type": "code",
      "metadata": {
        "id": "AUFtXgvvpQqs"
      },
      "source": [
        "# 튜토리얼 진행을 위한 모듈 import\n",
        "import pandas as pd\n",
        "import numpy as np\n",
        "import matplotlib.pyplot as plt\n",
        "import seaborn as sns\n",
        "from IPython.display import Image\n",
        "\n",
        "np.set_printoptions(suppress=True, precision=3)"
      ],
      "execution_count": null,
      "outputs": []
    },
    {
      "cell_type": "code",
      "metadata": {
        "id": "DCscO_5Vpylu"
      },
      "source": [
        "def make_linear(w=0.5, b=0.8, size=50, noise=1.0):\n",
        "    x = np.arange(size)\n",
        "    y = w * x + b\n",
        "    noise = np.random.uniform(-abs(noise), abs(noise), size=y.shape)\n",
        "    yy = y + noise\n",
        "    plt.figure(figsize=(10, 7))\n",
        "    plt.plot(x, y, color='r', label=f'y = {w}*x + {b}')\n",
        "    plt.scatter(x, yy, label='data')\n",
        "    plt.legend(fontsize=20)\n",
        "    plt.show()\n",
        "    print(f'w: {w}, b: {b}')\n",
        "    return x, y, yy"
      ],
      "execution_count": null,
      "outputs": []
    },
    {
      "cell_type": "code",
      "metadata": {
        "id": "0w5np4qop5dd"
      },
      "source": [
        "x, y_true, y_pred = make_linear(size=50, w=1.5, b=0.8, noise=5.5)"
      ],
      "execution_count": null,
      "outputs": []
    },
    {
      "cell_type": "code",
      "metadata": {
        "id": "42clR93Bp7YN"
      },
      "source": [
        "r2 = 1 - ((y_true - y_pred)**2).sum() / ((y_true - y_true.mean())**2).sum()\n",
        "\n",
        "print('r2 score = {:.3f}'.format(r2))"
      ],
      "execution_count": null,
      "outputs": []
    },
    {
      "cell_type": "code",
      "metadata": {
        "id": "GEN73VaZp_xN"
      },
      "source": [
        "from sklearn.metrics import r2_score\n",
        "\n",
        "r2_ = r2_score(y_true, y_pred)\n",
        "\n",
        "print('r2 score = {:.3f}'.format(r2_))"
      ],
      "execution_count": null,
      "outputs": []
    },
    {
      "cell_type": "code",
      "metadata": {
        "id": "2Bs5yBiBqFce"
      },
      "source": [
        "mse = ((y_true - y_pred)**2).mean()\n",
        "\n",
        "print('mse = {:.3f}'.format(mse))"
      ],
      "execution_count": null,
      "outputs": []
    },
    {
      "cell_type": "code",
      "metadata": {
        "id": "t7ldL2LbqKQI"
      },
      "source": [
        "from sklearn.metrics import mean_squared_error"
      ],
      "execution_count": null,
      "outputs": []
    },
    {
      "cell_type": "code",
      "metadata": {
        "id": "oMwgOjVkqKL5"
      },
      "source": [
        "mse_ = mean_squared_error(y_true, y_pred)\n",
        "\n",
        "print('mse = {:.3f}'.format(mse_))"
      ],
      "execution_count": null,
      "outputs": []
    },
    {
      "cell_type": "code",
      "metadata": {
        "id": "aBRQEOtMqNql"
      },
      "source": [
        "import matplotlib.pyplot as plt\n",
        "import seaborn as sns\n",
        "\n",
        "my_predictions = {}\n",
        "my_pred = None\n",
        "my_actual = None\n",
        "my_name = None\n",
        "\n",
        "colors = ['r', 'c', 'm', 'y', 'k', 'khaki', 'teal', 'orchid', 'sandybrown',\n",
        "          'greenyellow', 'dodgerblue', 'deepskyblue', 'rosybrown', 'firebrick',\n",
        "          'deeppink', 'crimson', 'salmon', 'darkred', 'olivedrab', 'olive', \n",
        "          'forestgreen', 'royalblue', 'indigo', 'navy', 'mediumpurple', 'chocolate',\n",
        "          'gold', 'darkorange', 'seagreen', 'turquoise', 'steelblue', 'slategray', \n",
        "          'peru', 'midnightblue', 'slateblue', 'dimgray', 'cadetblue', 'tomato'\n",
        "         ]\n",
        "\n",
        "def plot_predictions(name_, pred, actual):\n",
        "    df = pd.DataFrame({'prediction': pred, 'actual': y_test})\n",
        "    df = df.sort_values(by='actual').reset_index(drop=True)\n",
        "\n",
        "    plt.figure(figsize=(11, 8))\n",
        "    plt.scatter(df.index, df['prediction'], marker='x', color='r')\n",
        "    plt.scatter(df.index, df['actual'], alpha=0.7, marker='o', color='black')\n",
        "    plt.title(name_, fontsize=15)\n",
        "    plt.legend(['prediction', 'actual'], fontsize=12)\n",
        "    plt.show()\n",
        "\n",
        "def mse_eval(name_, pred, actual):\n",
        "    global my_predictions, colors, my_pred, my_actual, my_name\n",
        "    \n",
        "    my_name = name_\n",
        "    my_pred = pred\n",
        "    my_actual = actual\n",
        "\n",
        "    plot_predictions(name_, pred, actual)\n",
        "\n",
        "    mse = mean_squared_error(pred, actual)\n",
        "    my_predictions[name_] = mse\n",
        "\n",
        "    y_value = sorted(my_predictions.items(), key=lambda x: x[1], reverse=True)\n",
        "    \n",
        "    df = pd.DataFrame(y_value, columns=['model', 'mse'])\n",
        "    print(df)\n",
        "    min_ = df['mse'].min() - 10\n",
        "    max_ = df['mse'].max() + 10\n",
        "    \n",
        "    length = len(df) / 2\n",
        "    \n",
        "    plt.figure(figsize=(9, length))\n",
        "    ax = plt.subplot()\n",
        "    ax.set_yticks(np.arange(len(df)))\n",
        "    ax.set_yticklabels(df['model'], fontsize=12)\n",
        "    bars = ax.barh(np.arange(len(df)), df['mse'], height=0.3)\n",
        "    \n",
        "    for i, v in enumerate(df['mse']):\n",
        "        idx = np.random.choice(len(colors))\n",
        "        bars[i].set_color(colors[idx])\n",
        "        ax.text(v + 2, i, str(round(v, 3)), color='k', fontsize=12, fontweight='bold', verticalalignment='center')\n",
        "        \n",
        "    plt.title('MSE Error', fontsize=16)\n",
        "    plt.xlim(min_, max_)\n",
        "    \n",
        "    plt.show()\n",
        "    \n",
        "def add_model(name_, pred, actual):\n",
        "    global my_predictions, my_pred, my_actual, my_name\n",
        "    my_name = name_\n",
        "    my_pred = pred\n",
        "    my_actual = actual\n",
        "    \n",
        "    mse = mean_squared_error(pred, actual)\n",
        "    my_predictions[name_] = mse\n",
        "\n",
        "def remove_model(name_):\n",
        "    global my_predictions\n",
        "    try:\n",
        "        del my_predictions[name_]\n",
        "    except KeyError:\n",
        "        return False\n",
        "    return True\n",
        "\n",
        "def plot_all():\n",
        "    global my_predictions, my_pred, my_actual, my_name\n",
        "    \n",
        "    plot_predictions(my_name, my_pred, my_actual)\n",
        "    \n",
        "    y_value = sorted(my_predictions.items(), key=lambda x: x[1], reverse=True)\n",
        "    \n",
        "    df = pd.DataFrame(y_value, columns=['model', 'mse'])\n",
        "    print(df)\n",
        "    min_ = df['mse'].min() - 10\n",
        "    max_ = df['mse'].max() + 10\n",
        "    \n",
        "    length = len(df) / 2\n",
        "    \n",
        "    plt.figure(figsize=(9, length))\n",
        "    ax = plt.subplot()\n",
        "    ax.set_yticks(np.arange(len(df)))\n",
        "    ax.set_yticklabels(df['model'], fontsize=12)\n",
        "    bars = ax.barh(np.arange(len(df)), df['mse'], height=0.3)\n",
        "    \n",
        "    for i, v in enumerate(df['mse']):\n",
        "        idx = np.random.choice(len(colors))\n",
        "        bars[i].set_color(colors[idx])\n",
        "        ax.text(v + 2, i, str(round(v, 3)), color='k', fontsize=12, fontweight='bold', verticalalignment='center')\n",
        "        \n",
        "    plt.title('MSE Error', fontsize=16)\n",
        "    plt.xlim(min_, max_)\n",
        "    \n",
        "    plt.show()"
      ],
      "execution_count": null,
      "outputs": []
    },
    {
      "cell_type": "code",
      "metadata": {
        "id": "z4u-vnC-qT5s"
      },
      "source": [
        "from sklearn.datasets import load_boston\n",
        "\n",
        "data = load_boston()"
      ],
      "execution_count": null,
      "outputs": []
    },
    {
      "cell_type": "code",
      "metadata": {
        "id": "cY-dKVLWqanM"
      },
      "source": [
        "df = pd.DataFrame(data['data'], columns=data['feature_names'])\n",
        "df['target'] = data['target']"
      ],
      "execution_count": null,
      "outputs": []
    },
    {
      "cell_type": "code",
      "metadata": {
        "id": "3valxbvzqcOE"
      },
      "source": [
        "df.head()"
      ],
      "execution_count": null,
      "outputs": []
    },
    {
      "cell_type": "code",
      "metadata": {
        "id": "-wMsA9mOqgv1"
      },
      "source": [
        "from sklearn.model_selection import train_test_split\n",
        "\n",
        "SEED=30"
      ],
      "execution_count": null,
      "outputs": []
    },
    {
      "cell_type": "code",
      "metadata": {
        "id": "q9oI63DoqihX"
      },
      "source": [
        "x_train, x_test, y_train, y_test = train_test_split(df.drop('target', 1), df['target'], random_state=SEED)"
      ],
      "execution_count": null,
      "outputs": []
    },
    {
      "cell_type": "code",
      "metadata": {
        "id": "FyZrqJ95qkE8"
      },
      "source": [
        "x_train.shape, x_test.shape"
      ],
      "execution_count": null,
      "outputs": []
    },
    {
      "cell_type": "code",
      "metadata": {
        "id": "4FelEQKQqlLE"
      },
      "source": [
        "x_train.head()"
      ],
      "execution_count": null,
      "outputs": []
    },
    {
      "cell_type": "code",
      "metadata": {
        "id": "zip2LT7Fql6d"
      },
      "source": [
        "from sklearn.linear_model import LinearRegression"
      ],
      "execution_count": null,
      "outputs": []
    },
    {
      "cell_type": "code",
      "metadata": {
        "id": "sWu8IBB1qonM"
      },
      "source": [
        "model = LinearRegression(n_jobs=-1)\n",
        "model.fit(x_train, y_train)\n",
        "pred = model.predict(x_test)\n",
        "mse_eval('LinearRegression', pred, y_test)"
      ],
      "execution_count": null,
      "outputs": []
    },
    {
      "cell_type": "code",
      "metadata": {
        "id": "tiIK8Ve-qsLt"
      },
      "source": [
        "from sklearn.linear_model import Ridge\n",
        "\n",
        "# 값이 커질 수록 큰 규제입니다.\n",
        "alphas = [100, 10, 1, 0.1, 0.01, 0.001, 0.0001]\n",
        "\n",
        "for alpha in alphas:\n",
        "    ridge = Ridge(alpha=alpha, random_state=SEED)\n",
        "    ridge.fit(x_train, y_train)\n",
        "    pred = ridge.predict(x_test)\n",
        "    add_model('Ridge(alpha={})'.format(alpha), pred, y_test)\n",
        "plot_all()"
      ],
      "execution_count": null,
      "outputs": []
    },
    {
      "cell_type": "code",
      "metadata": {
        "id": "k9xSlNZAq0Hv"
      },
      "source": [
        "x_train.columns"
      ],
      "execution_count": null,
      "outputs": []
    },
    {
      "cell_type": "code",
      "metadata": {
        "id": "lDZ0XXT7q3w0"
      },
      "source": [
        "ridge.coef_"
      ],
      "execution_count": null,
      "outputs": []
    },
    {
      "cell_type": "code",
      "metadata": {
        "id": "rMZJnE8Jq4bc"
      },
      "source": [
        "pd.DataFrame(list(zip(x_train.columns, ridge.coef_)), columns=['features', 'importances']).sort_values('importances')"
      ],
      "execution_count": null,
      "outputs": []
    },
    {
      "cell_type": "code",
      "metadata": {
        "id": "QD6P_Jrlq5fX"
      },
      "source": [
        "def plot_coef(columns, coef):\n",
        "    coef_df = pd.DataFrame(list(zip(columns, coef)))\n",
        "    coef_df.columns=['feature', 'coef']\n",
        "    coef_df = coef_df.sort_values('coef', ascending=False).reset_index(drop=True)\n",
        "    \n",
        "    fig, ax = plt.subplots(figsize=(9, 7))\n",
        "    ax.barh(np.arange(len(coef_df)), coef_df['coef'])\n",
        "    idx = np.arange(len(coef_df))\n",
        "    ax.set_yticks(idx)\n",
        "    ax.set_yticklabels(coef_df['feature'])\n",
        "    fig.tight_layout()\n",
        "    plt.show()"
      ],
      "execution_count": null,
      "outputs": []
    },
    {
      "cell_type": "code",
      "metadata": {
        "id": "1nWRtyHVq7Hd"
      },
      "source": [
        "plot_coef(x_train.columns, ridge.coef_)"
      ],
      "execution_count": null,
      "outputs": []
    },
    {
      "cell_type": "code",
      "metadata": {
        "id": "O-ertWhhq8gE"
      },
      "source": [
        "ridge_100 = Ridge(alpha=100)\n",
        "ridge_100.fit(x_train, y_train)\n",
        "ridge_pred_100 = ridge_100.predict(x_test)\n",
        "\n",
        "ridge_001 = Ridge(alpha=0.001)\n",
        "ridge_001.fit(x_train, y_train)\n",
        "ridge_pred_001 = ridge_001.predict(x_test)\n",
        "plot_coef(x_train.columns, ridge_100.coef_)"
      ],
      "execution_count": null,
      "outputs": []
    },
    {
      "cell_type": "code",
      "metadata": {
        "id": "y2q4KMkGq-50"
      },
      "source": [
        "plot_coef(x_train.columns, ridge_001.coef_)"
      ],
      "execution_count": null,
      "outputs": []
    },
    {
      "cell_type": "code",
      "metadata": {
        "id": "2_3fuUknrA7f"
      },
      "source": [
        "from sklearn.linear_model import Lasso\n",
        "\n",
        "# 값이 커질 수록 큰 규제입니다.\n",
        "alphas = [100, 10, 1, 0.1, 0.01, 0.001, 0.0001]\n",
        "\n",
        "for alpha in alphas:\n",
        "    lasso = Lasso(alpha=alpha)\n",
        "    lasso.fit(x_train, y_train)\n",
        "    pred = lasso.predict(x_test)\n",
        "    add_model('Lasso(alpha={})'.format(alpha), pred, y_test)\n",
        "plot_all()"
      ],
      "execution_count": null,
      "outputs": []
    },
    {
      "cell_type": "code",
      "metadata": {
        "id": "6OKFcMH9rEAN"
      },
      "source": [
        "lasso_100 = Lasso(alpha=100)\n",
        "lasso_100.fit(x_train, y_train)\n",
        "lasso_pred_100 = lasso_100.predict(x_test)\n",
        "\n",
        "lasso_001 = Lasso(alpha=0.001)\n",
        "lasso_001.fit(x_train, y_train)\n",
        "lasso_pred_001 = lasso_001.predict(x_test)\n",
        "plot_coef(x_train.columns, lasso_001.coef_)"
      ],
      "execution_count": null,
      "outputs": []
    },
    {
      "cell_type": "code",
      "metadata": {
        "id": "1d9p0ydarfZg"
      },
      "source": [
        "lasso_001.coef_"
      ],
      "execution_count": null,
      "outputs": []
    },
    {
      "cell_type": "code",
      "metadata": {
        "id": "LSIiQXBvrilA"
      },
      "source": [
        "plot_coef(x_train.columns, lasso_100.coef_)"
      ],
      "execution_count": null,
      "outputs": []
    },
    {
      "cell_type": "code",
      "metadata": {
        "id": "ciBigo3trjol"
      },
      "source": [
        "from sklearn.linear_model import ElasticNet\n",
        "\n",
        "alpha=0.01\n",
        "ratios = [0.2, 0.5, 0.8]\n",
        "\n",
        "for ratio in ratios:\n",
        "    elasticnet = ElasticNet(alpha=alpha, l1_ratio=ratio, random_state=SEED)\n",
        "    elasticnet.fit(x_train, y_train)\n",
        "    pred = elasticnet.predict(x_test)\n",
        "    add_model('ElasticNet(l1_ratio={})'.format(ratio), pred, y_test)\n",
        "plot_all()"
      ],
      "execution_count": null,
      "outputs": []
    },
    {
      "cell_type": "code",
      "metadata": {
        "id": "vFmPJdORrpYD"
      },
      "source": [
        "elsticnet_20 = ElasticNet(alpha=5, l1_ratio=0.2)\n",
        "elsticnet_20.fit(x_train, y_train)\n",
        "elasticnet_pred_20 = elsticnet_20.predict(x_test)\n",
        "\n",
        "elsticnet_80 = ElasticNet(alpha=5, l1_ratio=0.8)\n",
        "elsticnet_80.fit(x_train, y_train)\n",
        "elasticnet_pred_80 = elsticnet_80.predict(x_test)\n",
        "plot_coef(x_train.columns, elsticnet_20.coef_)"
      ],
      "execution_count": null,
      "outputs": []
    },
    {
      "cell_type": "code",
      "metadata": {
        "id": "aZaxM_PErwm4"
      },
      "source": [
        "plot_coef(x_train.columns, elsticnet_80.coef_)"
      ],
      "execution_count": null,
      "outputs": []
    },
    {
      "cell_type": "code",
      "metadata": {
        "id": "GurP2VJ4rxoa"
      },
      "source": [
        "from sklearn.preprocessing import MinMaxScaler, StandardScaler\n",
        "minmax_scaler = MinMaxScaler()\n",
        "minmax_scaled = minmax_scaler.fit_transform(x_train)\n",
        "round(pd.DataFrame(minmax_scaled).describe(), 2)"
      ],
      "execution_count": null,
      "outputs": []
    },
    {
      "cell_type": "code",
      "metadata": {
        "id": "7eUQgmb3rzzr"
      },
      "source": [
        "minmax_scaler = MinMaxScaler()\n",
        "minmax_scaled = minmax_scaler.fit_transform(x_train)\n",
        "round(pd.DataFrame(minmax_scaled).describe(), 2)"
      ],
      "execution_count": null,
      "outputs": []
    },
    {
      "cell_type": "code",
      "metadata": {
        "id": "p36J9uWSr4yG"
      },
      "source": [
        "std_scaler = StandardScaler()\n",
        "std_scaled = std_scaler.fit_transform(x_train)\n",
        "round(pd.DataFrame(std_scaled).describe(), 2)"
      ],
      "execution_count": null,
      "outputs": []
    },
    {
      "cell_type": "code",
      "metadata": {
        "id": "5RKkeLe0sAel"
      },
      "source": [
        "from sklearn.pipeline import make_pipeline\n",
        "\n",
        "pipeline = make_pipeline(\n",
        "    MinMaxScaler(),\n",
        "    ElasticNet(alpha=0.1, l1_ratio=0.2))\n",
        "\n",
        "pipeline.fit(x_train, y_train)\n",
        "pipeline_pred = pipeline.predict(x_test)\n",
        "\n",
        "mse_eval('MinMax ElasticNet', pipeline_pred, y_test)"
      ],
      "execution_count": null,
      "outputs": []
    },
    {
      "cell_type": "code",
      "metadata": {
        "id": "URvp3-uosJhk"
      },
      "source": [
        "pipeline = make_pipeline(\n",
        "    StandardScaler(),\n",
        "    ElasticNet(alpha=0.1, l1_ratio=0.2))\n",
        "\n",
        "pipeline.fit(x_train, y_train)\n",
        "pipeline_pred = pipeline.predict(x_test)\n",
        "\n",
        "mse_eval('Standard ElasticNet', pipeline_pred, y_test)"
      ],
      "execution_count": null,
      "outputs": []
    },
    {
      "cell_type": "code",
      "metadata": {
        "id": "HuXoNzm2sO0e"
      },
      "source": [
        "from sklearn.preprocessing import PolynomialFeatures\n",
        "x = np.arange(5).reshape(-1, 1)\n",
        "x"
      ],
      "execution_count": null,
      "outputs": []
    },
    {
      "cell_type": "code",
      "metadata": {
        "id": "bI9dWiizsVVW"
      },
      "source": [
        "poly = PolynomialFeatures(degree=2, include_bias=False)\n",
        "x_poly = poly.fit_transform(x)\n",
        "x_poly"
      ],
      "execution_count": null,
      "outputs": []
    },
    {
      "cell_type": "code",
      "metadata": {
        "id": "UCM5mYKVsW8f"
      },
      "source": [
        "poly = PolynomialFeatures(degree=2, include_bias=True)\n",
        "x_poly = poly.fit_transform(x)\n",
        "x_poly"
      ],
      "execution_count": null,
      "outputs": []
    },
    {
      "cell_type": "code",
      "metadata": {
        "id": "JbX3IVkXsYSZ"
      },
      "source": [
        "poly = PolynomialFeatures(degree=3, include_bias=True)\n",
        "x_poly = poly.fit_transform(x)\n",
        "x_poly"
      ],
      "execution_count": null,
      "outputs": []
    },
    {
      "cell_type": "code",
      "metadata": {
        "id": "FFgjM7NFsZmH"
      },
      "source": [
        "poly = PolynomialFeatures(degree=2, include_bias=False)\n",
        "poly_features = poly.fit_transform(x_train)[0]\n",
        "poly_features"
      ],
      "execution_count": null,
      "outputs": []
    },
    {
      "cell_type": "code",
      "metadata": {
        "id": "rROCPEkjsdfX"
      },
      "source": [
        "poly_pipeline = make_pipeline(\n",
        "    PolynomialFeatures(degree=2, include_bias=False),\n",
        "    ElasticNet(alpha=0.1, l1_ratio=0.2))\n",
        "\n",
        "poly_pipeline.fit(x_train, y_train)\n",
        "poly_pred = poly_pipeline.predict(x_test)\n",
        "\n",
        "mse_eval('Poly ElasticNet', poly_pred, y_test)"
      ],
      "execution_count": null,
      "outputs": []
    },
    {
      "cell_type": "code",
      "metadata": {
        "id": "6x_LTR_Tsi_c"
      },
      "source": [
        "# https://colab.research.google.com/github/teddylee777/machine-learning/blob/master/10-scikit-learn/06-%ED%9A%8C%EA%B7%80%20(regression).ipynb#scrollTo=vBtOJDtPJ06P."
      ],
      "execution_count": null,
      "outputs": []
    }
  ]
}